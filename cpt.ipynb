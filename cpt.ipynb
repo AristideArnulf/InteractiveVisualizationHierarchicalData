{
 "cells": [
  {
   "cell_type": "code",
   "execution_count": 1,
   "metadata": {},
   "outputs": [
    {
     "data": {
      "text/html": [
       "<script>requirejs.config({paths: { 'plotly': ['https://cdn.plot.ly/plotly-latest.min']},});if(!window.Plotly) {{require(['plotly'],function(plotly) {window.Plotly=plotly;});}}</script>"
      ],
      "text/vnd.plotly.v1+html": [
       "<script>requirejs.config({paths: { 'plotly': ['https://cdn.plot.ly/plotly-latest.min']},});if(!window.Plotly) {{require(['plotly'],function(plotly) {window.Plotly=plotly;});}}</script>"
      ]
     },
     "metadata": {},
     "output_type": "display_data"
    }
   ],
   "source": [
    "import numpy as np\n",
    "import math\n",
    "from Bio import Phylo\n",
    "from plotly.offline import download_plotlyjs, init_notebook_mode,  iplot\n",
    "init_notebook_mode(connected=True)\n",
    "import plotly\n",
    "\n",
    "def createPhylo(phy, length=1, angleFirst=0, angleLast=360, firstTerm='first'):\n",
    "    \n",
    "    angleFirst *= math.pi/180\n",
    "    angleLast *= math.pi/180\n",
    "    \n",
    "    def getYcoord(phy):\n",
    "        pointTerm = phy.count_terminals()\n",
    "        \n",
    "        if firstTerm == 'first':\n",
    "            pointY = dict((term, i) for i, term in enumerate(phy.get_terminals()))\n",
    "        elif firstTerm == 'last':\n",
    "            pointY = dict((term, i) for i, term in enumerate(reversed(phy.get_terminals())))\n",
    "            \n",
    "        def setYcoord(clade):\n",
    "            for sc in clade:\n",
    "                if sc not in pointY:\n",
    "                    setYcoord(sc)\n",
    "            pointY[clade] = 0.5 * (pointY[clade.clades[0]] + pointY[clade.clades[-1]])\n",
    "        if phy.root.clades:\n",
    "            setYcoord(phy.root)\n",
    "        return pointY\n",
    "    \n",
    "    def rad(phy):\n",
    "        pointRad = phy.depths()\n",
    "        \n",
    "        if not np.count_nonzero(pointRad.values()):\n",
    "            pointRad = phy.depths(unit_branch_lengths=True)\n",
    "        return pointRad\n",
    "   \n",
    "    pointRad = rad(phy)\n",
    "    pointYcoord = getYcoord(phy)\n",
    "    pointYvalues = pointYcoord.values()\n",
    "    pointYmin, pointYmax = min(pointYvalues), max(pointYvalues)\n",
    "    pointYmin -= length\n",
    "                \n",
    "    def pointYpolar(py):        \n",
    "        return angleFirst + (angleLast - angleFirst) * (py-pointYmin) / float(pointYmax-pointYmin)\n",
    "\n",
    "    def lineNodes(lt='radial', xNeg=0, xPos=0, yPos=0,  yDown=0, yUp=0):\n",
    "        if lt == 'radial':\n",
    "            ang = pointYpolar(yPos) \n",
    "            x = [xNeg*math.cos(ang), xPos*math.cos(ang), None]\n",
    "            y = [xNeg*math.sin(ang), xPos*math.sin(ang), None]\n",
    "        elif lt == 'angular':\n",
    "            angDown = pointYpolar(yDown)\n",
    "            angUp = pointYpolar(yUp)\n",
    "            k = np.linspace(0,1, 10)\n",
    "            ang = (1-k) * angDown + k * angUp\n",
    "            x = list(xPos * np.cos(ang)) + [None]\n",
    "            y = list(xPos * np.sin(ang)) + [None]  \n",
    "        return x,y  \n",
    "        \n",
    "    def lineNodeLst(clade,  xNeg,  xLink, yLink, xCurve, yCurve):\n",
    "        xPos = pointRad[clade]\n",
    "        yPos = pointYcoord[clade]\n",
    "        x,y = lineNodes(lt='radial', xNeg = xNeg, xPos = xPos, yPos = yPos)\n",
    "        xLink.extend(x)\n",
    "        yLink.extend(y)\n",
    "        if clade.clades:\n",
    "            yUp = pointYcoord[clade.clades[0]]\n",
    "            yDown = pointYcoord[clade.clades[-1]]\n",
    "            x,y = lineNodes(lt='angular',  xPos=xPos, yDown=yDown, yUp = yUp)\n",
    "            xCurve.extend(x)\n",
    "            yCurve.extend(y)\n",
    "            \n",
    "            for desc in clade:\n",
    "                lineNodeLst(desc, xPos, xLink, yLink, xCurve, yCurve)\n",
    "\n",
    "    xLink=[]\n",
    "    yLink=[]\n",
    "    xCurve=[]\n",
    "    yCurve=[]\n",
    "    lineNodeLst(phy.root,  0, xLink, yLink, xCurve, yCurve)  \n",
    "    xPoint=[]\n",
    "    yPoint=[]\n",
    "\n",
    "    for clade in phy.find_clades(order='level'):\n",
    "        ang = pointYpolar(pointYcoord[clade])\n",
    "        xPoint.append(pointRad[clade]*math.cos(ang))\n",
    "        yPoint.append(pointRad[clade]*math.sin(ang))\n",
    "        \n",
    "    return xPoint, yPoint,  xLink, yLink, xCurve, yCurve    "
   ]
  },
  {
   "cell_type": "code",
   "execution_count": 8,
   "metadata": {},
   "outputs": [],
   "source": [
    "phy = Phylo.read('Data/nextstrain_zika_tree.new', 'newick')\n",
    "xPoint, yPoint,  xLink, yLink, xCurve, yCurve    = createPhylo(phy,  firstTerm='last')\n",
    "txt=[]\n",
    "for clade in phy.find_clades(order='level'):\n",
    "    if clade.name and clade.confidence and clade.branch_length:\n",
    "        txt.append(clade.name+'<br>branch-length: '+'{:4f}'.format(clade.branch_length)+\n",
    "                    '<br>confidence: '+'{:d}'.format(int(clade.confidence.value)))\n",
    "    elif clade.name is None and clade.branch_length is not None and clade.confidence is not None: \n",
    "        txt.append('<br>branch-length: '+'{:4f}'.format(clade.branch_length)+'<br>confidence: '+\\\n",
    "                    '{:d}'.format(int(clade.confidence.value)))\n",
    "    elif clade.name and clade.branch_length and clade.confidence is None:\n",
    "        txt.append(clade.name+'<br>branch-length: '+'{:4f}'.format(clade.branch_length))\n",
    "    else: \n",
    "        txt.append('')\n",
    "drawPoint=dict(type='scatter', x = xPoint, y= yPoint, mode='markers',marker=dict(color='rgb(153,0,153)'),\n",
    "               text = txt, hoverinfo='text')\n",
    "drawLinks=dict(type='scatter', x = xLink, y = yLink, mode='lines', line=dict(color='rgb(20,20,20)', width=1.2),\n",
    "               hoverinfo='none')\n",
    "drawCurves=dict(type='scatter', x = xCurve, y=yCurve, mode='lines', line=dict(color='rgb(20,20,20)', width=1.2, \n",
    "                shape='spline'),hoverinfo='none')\n",
    "layout=dict(title='',font=dict(family='Balto',size=14),width=900,height=950,autosize=False,showlegend=False,\n",
    "            xaxis=dict(showline=False, zeroline=False, showgrid=False, showticklabels=False, title=''),\n",
    "            yaxis=dict(showline=False, zeroline=False, showgrid=False, showticklabels=False, title=''), \n",
    "            hovermode='closest',plot_bgcolor='rgb(245,245,245)',margin=dict(t=75))\n",
    "fig=dict(data=[drawLinks, drawCurves, drawPoint], layout=layout)\n",
    "\n",
    "\n"
   ]
  },
  {
   "cell_type": "code",
   "execution_count": 9,
   "metadata": {},
   "outputs": [
    {
     "data": {
      "text/plain": [
       "'file://C:\\\\Anaconda3\\\\Phylogenetic-trees-master\\\\cpt.html'"
      ]
     },
     "execution_count": 9,
     "metadata": {},
     "output_type": "execute_result"
    }
   ],
   "source": [
    "plotly.offline.plot(fig, filename = 'cpt.html', auto_open=False)"
   ]
  }
 ],
 "metadata": {
  "kernelspec": {
   "display_name": "Python 3",
   "language": "python",
   "name": "python3"
  },
  "language_info": {
   "codemirror_mode": {
    "name": "ipython",
    "version": 3
   },
   "file_extension": ".py",
   "mimetype": "text/x-python",
   "name": "python",
   "nbconvert_exporter": "python",
   "pygments_lexer": "ipython3",
   "version": "3.6.4"
  }
 },
 "nbformat": 4,
 "nbformat_minor": 2
}
