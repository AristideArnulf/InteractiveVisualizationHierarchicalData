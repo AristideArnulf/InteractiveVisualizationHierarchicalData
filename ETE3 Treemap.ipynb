{
 "cells": [
  {
   "cell_type": "code",
   "execution_count": 123,
   "metadata": {},
   "outputs": [],
   "source": [
    "import pandas as pd\n",
    "import numpy as np\n",
    "from bokeh.io import output_notebook, show\n",
    "from bokeh.plotting import figure, output_file, show, save\n",
    "from bokeh.models import ColumnDataSource\n",
    "from bokeh.models import HoverTool\n",
    "from bokeh.resources import CDN\n",
    "from bokeh.embed import file_html\n",
    "import squarify\n",
    "from bokeh.palettes import Paired, magma, Plasma256, viridis, linear_palette, Category20"
   ]
  },
  {
   "cell_type": "code",
   "execution_count": 39,
   "metadata": {},
   "outputs": [
    {
     "name": "stdout",
     "output_type": "stream",
     "text": [
      "\n",
      "      /-raccoon\n",
      "   /-|\n",
      "  |   \\-bear\n",
      "  |\n",
      "  |      /-sea_lion\n",
      "  |   /-|\n",
      "  |  |   \\-seal\n",
      "--|--|\n",
      "  |  |      /-monkey\n",
      "  |  |   /-|\n",
      "  |   \\-|   \\-cat\n",
      "  |     |\n",
      "  |      \\-weasel\n",
      "  |\n",
      "   \\-dog\n"
     ]
    }
   ],
   "source": [
    "#import file to t\n",
    "from ete3 import Tree \n",
    "t = Tree(\"NewickTree.nwk\")\n",
    "print(t)"
   ]
  },
  {
   "cell_type": "code",
   "execution_count": 126,
   "metadata": {
    "scrolled": true
   },
   "outputs": [],
   "source": [
    "output_file(\"square.html\")\n",
    "p = figure(plot_width=600, plot_height=600)\n",
    "border_x = 0\n",
    "border_y = 0\n",
    "border_width = 0\n",
    "border_height = 0\n",
    "\n",
    "def TraverseTree(node, MyBorder):    \n",
    "    if node.is_root():\n",
    "        MyBorder = border_x, border_y, border_width, border_height \n",
    "        DrawTree([len(node)], MyBorder) \n",
    "        for i in range(0,len(node.get_children())):\n",
    "            ParentBorder = MyBorder\n",
    "            TraverseTree(node.children[i], ParentBorder)\n",
    "            \n",
    "    elif node.is_leaf() == False  & node.is_root() == False:\n",
    "        for i in range(0,len(node.get_children())):              \n",
    "            ParentBorder = MyBorder\n",
    "            TraverseTree(node.children[i], ParentBorder)\n",
    "\n",
    "def Temp(node):\n",
    "    NodeHeight = []\n",
    "    for i in node.traverse():\n",
    "        NodeHeight.append(len(i))\n",
    "    #DrawTree(NodeHeight,0,0,500,700)\n",
    "    DrawTree(NodeHeight,0,0,500,700)           "
   ]
  },
  {
   "cell_type": "code",
   "execution_count": 125,
   "metadata": {},
   "outputs": [],
   "source": [
    "import squarify\n",
    "import json\n",
    "\n",
    "def DrawTree(vals, ParentBorderLeft, ParentBorderBottom, ParentBorderRight, ParentBorderTop): \n",
    "    # these values define the coordinate system for the returned rectangles\n",
    "    # the values will range from x to x + width and y to y + height\n",
    "    border_x = ParentBorderLeft\n",
    "    border_y = ParentBorderBottom\n",
    "    border_width = ParentBorderRight\n",
    "    border_height = ParentBorderTop\n",
    "\n",
    "    values = vals\n",
    "\n",
    "    # values must be sorted descending (and positive, obviously)\n",
    "    values.sort(reverse=True)\n",
    "\n",
    "    # the sum of the values must equal the total area to be laid out\n",
    "    values = squarify.normalize_sizes(values, border_width, border_height)\n",
    "    rects = squarify.squarify(values, border_x, border_y, border_width, border_height)\n",
    "    \n",
    "    #values assigned to coordinates\n",
    "    top = []\n",
    "    bottom = []\n",
    "    left = []\n",
    "    right = []\n",
    "    #colors = []\n",
    "    for i in range(len(rects)):\n",
    "        top.append(rects[i].get(\"dy\"))\n",
    "        bottom.append(rects[i].get(\"y\"))\n",
    "        left.append(rects[i].get(\"x\"))\n",
    "        right.append(rects[i].get(\"dx\"))\n",
    "        #colors.append(Category20[i])\n",
    "    top = [x + y for x, y in zip(bottom, top)]\n",
    "    right = [x + y for x, y in zip(left, right)]\n",
    "\n",
    "    #plot figure\n",
    "    output_file(\"square.html\")\n",
    "    p = figure(plot_width=800, plot_height=500)\n",
    "    p.quad(top = top, \n",
    "       bottom = bottom , \n",
    "       left = left, \n",
    "       right= right, \n",
    "       color= viridis(len(rects)))  \n",
    "    show(p)"
   ]
  },
  {
   "cell_type": "code",
   "execution_count": 127,
   "metadata": {},
   "outputs": [],
   "source": [
    "Temp(t)"
   ]
  }
 ],
 "metadata": {
  "kernelspec": {
   "display_name": "Python 3",
   "language": "python",
   "name": "python3"
  },
  "language_info": {
   "codemirror_mode": {
    "name": "ipython",
    "version": 3
   },
   "file_extension": ".py",
   "mimetype": "text/x-python",
   "name": "python",
   "nbconvert_exporter": "python",
   "pygments_lexer": "ipython3",
   "version": "3.6.4"
  }
 },
 "nbformat": 4,
 "nbformat_minor": 2
}
