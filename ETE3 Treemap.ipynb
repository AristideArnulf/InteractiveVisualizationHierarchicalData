{
 "cells": [
  {
   "cell_type": "code",
   "execution_count": 1,
   "metadata": {},
   "outputs": [],
   "source": [
    "import pandas as pd\n",
    "import numpy as np\n",
    "from bokeh.io import output_notebook, show\n",
    "from bokeh.plotting import figure, output_file, show, save\n",
    "from bokeh.models import ColumnDataSource\n",
    "from bokeh.models import HoverTool\n",
    "from bokeh.resources import CDN\n",
    "from bokeh.embed import file_html\n",
    "from bokeh.palettes import Paired, magma, Plasma256, viridis, linear_palette, Category20\n",
    "import squarify\n",
    "import json\n",
    "from ete3 import Tree "
   ]
  },
  {
   "cell_type": "code",
   "execution_count": 2,
   "metadata": {},
   "outputs": [],
   "source": [
    "#import file to t\n",
    "t = Tree(\"NewickTree.nwk\")"
   ]
  },
  {
   "cell_type": "code",
   "execution_count": 9,
   "metadata": {},
   "outputs": [
    {
     "name": "stdout",
     "output_type": "stream",
     "text": [
      "\n",
      "      /-raccoon\n",
      "   /-|\n",
      "  |   \\-bear\n",
      "  |\n",
      "  |      /-sea_lion\n",
      "  |   /-|\n",
      "  |  |   \\-seal\n",
      "--|--|\n",
      "  |  |      /-monkey\n",
      "  |  |   /-|\n",
      "  |   \\-|   \\-cat\n",
      "  |     |\n",
      "  |      \\-weasel\n",
      "  |\n",
      "   \\-dog\n"
     ]
    }
   ],
   "source": [
    "print(t)"
   ]
  },
  {
   "cell_type": "code",
   "execution_count": 8,
   "metadata": {},
   "outputs": [],
   "source": [
    "a=0\n",
    "BuildTree(t)\n",
    "show(p)"
   ]
  },
  {
   "cell_type": "code",
   "execution_count": 3,
   "metadata": {
    "scrolled": true
   },
   "outputs": [],
   "source": [
    "output_file(\"square.html\")\n",
    "p = figure(plot_width=1600, plot_height=1000)\n",
    "Border = []\n",
    "Colors = viridis(15)\n",
    "def BuildTree(node):\n",
    "    global a \n",
    "    if node.is_root():\n",
    "        TempBorder = [0,0,500,700]\n",
    "        ParentCoordinates = GetCoor([len(node)], TempBorder)\n",
    "        RootColor = Colors[a]\n",
    "        a = a+1\n",
    "        Border.append(ParentCoordinates[0])\n",
    "        Drawing(ParentCoordinates[0], RootColor)\n",
    "        TraverseNode(node)\n",
    "            \n",
    "    elif node.is_leaf() == False  & node.is_root() == False:\n",
    "        TraverseNode(node)"
   ]
  },
  {
   "cell_type": "code",
   "execution_count": 4,
   "metadata": {},
   "outputs": [],
   "source": [
    "def TraverseNode(node):\n",
    "    global a\n",
    "    weights = []\n",
    "    NodeBorder = Border[-1]\n",
    "    NodeBorder[0] = NodeBorder[0]+10  \n",
    "    NodeBorder[1] = NodeBorder[1]+10  \n",
    "    NodeBorder[2] = NodeBorder[2]-10  \n",
    "    NodeBorder[3] = NodeBorder[3]-10  \n",
    "    \n",
    "    for i in range(0,len(node.get_children())):\n",
    "        weights.append(len(node.children[i]))\n",
    "    ChildCoordinates = GetCoor(weights, NodeBorder)\n",
    "    for i in range(0,len(node.get_children())):       \n",
    "        ChildColor = Colors[a]\n",
    "        a = a+1\n",
    "        Drawing(ChildCoordinates[i], ChildColor)\n",
    "        Border.append(ChildCoordinates[i])\n",
    "        BuildTree(node.children[i])\n",
    "        del Border[-1]"
   ]
  },
  {
   "cell_type": "code",
   "execution_count": 5,
   "metadata": {},
   "outputs": [],
   "source": [
    "def GetCoor(vals, MyBorder): \n",
    "    # these values define the coordinate system for the returned rectangles\n",
    "    # the values will range from x to x + width and y to y + height\n",
    "    border_x = MyBorder[0]\n",
    "    border_y = MyBorder[1]\n",
    "    border_width = MyBorder[2]-MyBorder[0]\n",
    "    border_height = MyBorder[3]-MyBorder[1]\n",
    "\n",
    "    values = vals\n",
    "\n",
    "    # values must be sorted descending (and positive, obviously)\n",
    "    values.sort(reverse=True)\n",
    "\n",
    "    # the sum of the values must equal the total area to be laid out\n",
    "    values = squarify.normalize_sizes(values, border_width, border_height)\n",
    "    rects = squarify.squarify(values, border_x, border_y, border_width, border_height)\n",
    "    \n",
    "    #values assigned to coordinates\n",
    "    rect = []\n",
    "    for i in range(len(rects)):\n",
    "        temp = []\n",
    "        temp.append(rects[i].get(\"x\"))\n",
    "        temp.append(rects[i].get(\"y\"))\n",
    "        temp.append(rects[i].get(\"dx\")+rects[i].get(\"x\"))\n",
    "        temp.append(rects[i].get(\"dy\")+rects[i].get(\"y\"))\n",
    "        rect.append(temp)\n",
    "    return rect"
   ]
  },
  {
   "cell_type": "code",
   "execution_count": 6,
   "metadata": {},
   "outputs": [],
   "source": [
    "def Drawing(Coordinates, color):\n",
    "    p.quad(top = Coordinates[3], \n",
    "       bottom = Coordinates[1] , \n",
    "       left = Coordinates[0], \n",
    "       right = Coordinates[2], \n",
    "       color = color,\n",
    "           line_color = 'white',\n",
    "           line_width = 3,)  \n",
    "    p.grid.visible = False\n",
    "    p.axis.visible = False"
   ]
  },
  {
   "cell_type": "code",
   "execution_count": 7,
   "metadata": {},
   "outputs": [],
   "source": [
    "def SetUpColor(node):\n",
    "    counter = 0\n",
    "    for i in node.traverse(\"postorder\"):\n",
    "        counter += 1\n",
    "    return counter"
   ]
  }
 ],
 "metadata": {
  "kernelspec": {
   "display_name": "Python 3",
   "language": "python",
   "name": "python3"
  },
  "language_info": {
   "codemirror_mode": {
    "name": "ipython",
    "version": 3
   },
   "file_extension": ".py",
   "mimetype": "text/x-python",
   "name": "python",
   "nbconvert_exporter": "python",
   "pygments_lexer": "ipython3",
   "version": "3.6.4"
  }
 },
 "nbformat": 4,
 "nbformat_minor": 2
}
